{
 "cells": [
  {
   "cell_type": "markdown",
   "id": "99253569",
   "metadata": {},
   "source": [
    "## goal : extract the density population for each city in france prensent in our geojson files"
   ]
  },
  {
   "cell_type": "markdown",
   "id": "dea4c94f",
   "metadata": {},
   "source": [
    "### 1 import the geojson file from : data.gouv"
   ]
  },
  {
   "cell_type": "code",
   "execution_count": 1,
   "id": "0b2c4272",
   "metadata": {},
   "outputs": [],
   "source": [
    "import geopandas as gpd\n",
    "\n",
    "# Specify the path to your GeoJSON file\n",
    "file_path = r'C:\\Users\\eurls\\Downloads\\a-com2022-geo-2154-1.geojson'\n",
    "\n",
    "# Load the GeoJSON file into a GeoDataFrame\n",
    "gdf = gpd.read_file(file_path)\n"
   ]
  },
  {
   "cell_type": "code",
   "execution_count": 2,
   "id": "1ad7372b",
   "metadata": {},
   "outputs": [
    {
     "data": {
      "text/html": [
       "<div>\n",
       "<style scoped>\n",
       "    .dataframe tbody tr th:only-of-type {\n",
       "        vertical-align: middle;\n",
       "    }\n",
       "\n",
       "    .dataframe tbody tr th {\n",
       "        vertical-align: top;\n",
       "    }\n",
       "\n",
       "    .dataframe thead th {\n",
       "        text-align: right;\n",
       "    }\n",
       "</style>\n",
       "<table border=\"1\" class=\"dataframe\">\n",
       "  <thead>\n",
       "    <tr style=\"text-align: right;\">\n",
       "      <th></th>\n",
       "      <th>codgeo</th>\n",
       "      <th>dep</th>\n",
       "      <th>reg</th>\n",
       "      <th>xcl2154</th>\n",
       "      <th>ycl2154</th>\n",
       "      <th>libgeo</th>\n",
       "      <th>geometry</th>\n",
       "    </tr>\n",
       "  </thead>\n",
       "  <tbody>\n",
       "    <tr>\n",
       "      <th>0</th>\n",
       "      <td>01001</td>\n",
       "      <td>01</td>\n",
       "      <td>84</td>\n",
       "      <td>848241</td>\n",
       "      <td>6563021</td>\n",
       "      <td>L'Abergement-Clémenciat</td>\n",
       "      <td>POLYGON ((846981.43602 6564107.35993, 846822.9...</td>\n",
       "    </tr>\n",
       "    <tr>\n",
       "      <th>1</th>\n",
       "      <td>01002</td>\n",
       "      <td>01</td>\n",
       "      <td>84</td>\n",
       "      <td>887495</td>\n",
       "      <td>6548152</td>\n",
       "      <td>L'Abergement-de-Varey</td>\n",
       "      <td>POLYGON ((886027.65133 6548170.89982, 886971.3...</td>\n",
       "    </tr>\n",
       "    <tr>\n",
       "      <th>2</th>\n",
       "      <td>01004</td>\n",
       "      <td>01</td>\n",
       "      <td>84</td>\n",
       "      <td>882724</td>\n",
       "      <td>6542583</td>\n",
       "      <td>Ambérieu-en-Bugey</td>\n",
       "      <td>POLYGON ((884889.40373 6539629.93086, 885076.7...</td>\n",
       "    </tr>\n",
       "    <tr>\n",
       "      <th>3</th>\n",
       "      <td>01005</td>\n",
       "      <td>01</td>\n",
       "      <td>84</td>\n",
       "      <td>847277</td>\n",
       "      <td>6545791</td>\n",
       "      <td>Ambérieux-en-Dombes</td>\n",
       "      <td>POLYGON ((845951.24990 6547999.07815, 846080.9...</td>\n",
       "    </tr>\n",
       "    <tr>\n",
       "      <th>4</th>\n",
       "      <td>01006</td>\n",
       "      <td>01</td>\n",
       "      <td>84</td>\n",
       "      <td>902191</td>\n",
       "      <td>6519791</td>\n",
       "      <td>Ambléon</td>\n",
       "      <td>POLYGON ((901336.36121 6521123.30490, 900803.2...</td>\n",
       "    </tr>\n",
       "  </tbody>\n",
       "</table>\n",
       "</div>"
      ],
      "text/plain": [
       "  codgeo dep reg  xcl2154  ycl2154                   libgeo  \\\n",
       "0  01001  01  84   848241  6563021  L'Abergement-Clémenciat   \n",
       "1  01002  01  84   887495  6548152    L'Abergement-de-Varey   \n",
       "2  01004  01  84   882724  6542583        Ambérieu-en-Bugey   \n",
       "3  01005  01  84   847277  6545791      Ambérieux-en-Dombes   \n",
       "4  01006  01  84   902191  6519791                  Ambléon   \n",
       "\n",
       "                                            geometry  \n",
       "0  POLYGON ((846981.43602 6564107.35993, 846822.9...  \n",
       "1  POLYGON ((886027.65133 6548170.89982, 886971.3...  \n",
       "2  POLYGON ((884889.40373 6539629.93086, 885076.7...  \n",
       "3  POLYGON ((845951.24990 6547999.07815, 846080.9...  \n",
       "4  POLYGON ((901336.36121 6521123.30490, 900803.2...  "
      ]
     },
     "execution_count": 2,
     "metadata": {},
     "output_type": "execute_result"
    }
   ],
   "source": [
    "#display the first five rows of the geodf\n",
    "gdf.head(5)"
   ]
  },
  {
   "cell_type": "code",
   "execution_count": 7,
   "id": "5cf37fe3",
   "metadata": {
    "scrolled": true
   },
   "outputs": [
    {
     "data": {
      "text/plain": [
       "0    L'Abergement-Clémenciat\n",
       "1      L'Abergement-de-Varey\n",
       "2          Ambérieu-en-Bugey\n",
       "3        Ambérieux-en-Dombes\n",
       "4                    Ambléon\n",
       "Name: libgeo, dtype: object"
      ]
     },
     "execution_count": 7,
     "metadata": {},
     "output_type": "execute_result"
    }
   ],
   "source": [
    "#extract the city name from  gfd\n",
    "city_name=gdf['libgeo']\n",
    "#display the first 5 element in the list city_name\n",
    "city_name[0:5]"
   ]
  },
  {
   "cell_type": "markdown",
   "id": "ce41d4bd",
   "metadata": {},
   "source": [
    "### 2) extract the density population from wikipedia , as wikepedia in not a governemental official website we cannot  rely on it , the best is to contact the governement office responsible for the data we need"
   ]
  },
  {
   "cell_type": "markdown",
   "id": "7aa4f2b5",
   "metadata": {},
   "source": [
    "###  NOTE : the following code is particularly long to run ,it took me almost 5 hours as it have to exctract the data from more than 36 000 webpages \n",
    "### you might be able to use pyspark or some other  bigdata tools to speed up the process "
   ]
  },
  {
   "cell_type": "code",
   "execution_count": null,
   "id": "469c58c4",
   "metadata": {},
   "outputs": [],
   "source": [
    "import pandas as pd\n",
    "import requests\n",
    "from bs4 import BeautifulSoup\n",
    "\n",
    "# list\n",
    "city_name\n",
    "\n",
    "# Function to extract population density from Wikipedia\n",
    "def get_population_density(city_name):\n",
    "    url = f\"https://fr.wikipedia.org/wiki/{city_name.replace(' ', '_')}\"\n",
    "    response = requests.get(url)\n",
    "    soup = BeautifulSoup(response.text, 'html.parser')\n",
    "    \n",
    "    # Find the <td> element containing the population density information\n",
    "    density_th = soup.find('th', string='Densité')\n",
    "    \n",
    "    if density_th:\n",
    "        density_td = density_th.find_next('td')\n",
    "        \n",
    "        if density_td:\n",
    "            # Extract and clean the text content within the element\n",
    "            density_text = density_td.get_text(strip=True)\n",
    "            \n",
    "            # Concatenate all parts obtained from splitting the text\n",
    "            number_parts = density_text.split()\n",
    "            full_number = ' '.join(number_parts)\n",
    "            \n",
    "            return full_number\n",
    "    \n",
    "    return None\n",
    "\n",
    "\n",
    "\n",
    "# Create an empty list to store population densities\n",
    "density_list = []\n",
    "\n",
    "# Iterate through the cities in the dataframe and append the results to the list\n",
    "for city in city_name:\n",
    "    density = get_population_density(city)\n",
    "    density_list.append(density)\n",
    "\n",
    "# Print the list of population densities\n",
    "print(density_list)\n"
   ]
  },
  {
   "cell_type": "code",
   "execution_count": null,
   "id": "369bd183",
   "metadata": {},
   "outputs": [],
   "source": [
    "# count the number of none value \n",
    "none_count = density_list.count(None)\n",
    "none_count"
   ]
  },
  {
   "cell_type": "markdown",
   "id": "a79b536a",
   "metadata": {},
   "source": [
    "### observations : you can see that we got 5295 missing values ,the problem is that some french cities have the same name ,we can  improve the code to better handle this case"
   ]
  },
  {
   "cell_type": "markdown",
   "id": "51e14d48",
   "metadata": {},
   "source": [
    "###  Due to the long running time ,i am out "
   ]
  },
  {
   "cell_type": "code",
   "execution_count": null,
   "id": "a9293ed0",
   "metadata": {},
   "outputs": [],
   "source": [
    "# transform the list into a dataframe\n",
    "df = pd.DataFrame(density_list)\n",
    "df.head(10)"
   ]
  },
  {
   "cell_type": "code",
   "execution_count": null,
   "id": "882fd4f7",
   "metadata": {},
   "outputs": [],
   "source": [
    "#Download the list as a csv file\n",
    "file_path = r\"C:\\Users\\eurls\\Downloads\\density.csv\"\n",
    "df.to_csv(file_path, index=False)"
   ]
  },
  {
   "cell_type": "markdown",
   "id": "29a88824",
   "metadata": {},
   "source": [
    "###  if you want to use it for some calculation keep in mind that you have to clean it \n",
    "### replace the ',' by \".\", remove non-numeric characters (you got some space between some values,convert it to float or int  ),"
   ]
  },
  {
   "cell_type": "code",
   "execution_count": null,
   "id": "a2eb5113",
   "metadata": {},
   "outputs": [],
   "source": []
  }
 ],
 "metadata": {
  "kernelspec": {
   "display_name": "Python 3 (ipykernel)",
   "language": "python",
   "name": "python3"
  },
  "language_info": {
   "codemirror_mode": {
    "name": "ipython",
    "version": 3
   },
   "file_extension": ".py",
   "mimetype": "text/x-python",
   "name": "python",
   "nbconvert_exporter": "python",
   "pygments_lexer": "ipython3",
   "version": "3.11.3"
  }
 },
 "nbformat": 4,
 "nbformat_minor": 5
}
